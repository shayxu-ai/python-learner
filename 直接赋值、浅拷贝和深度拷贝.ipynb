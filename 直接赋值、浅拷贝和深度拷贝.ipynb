{
 "metadata": {
  "language_info": {
   "codemirror_mode": {
    "name": "ipython",
    "version": 3
   },
   "file_extension": ".py",
   "mimetype": "text/x-python",
   "name": "python",
   "nbconvert_exporter": "python",
   "pygments_lexer": "ipython3",
   "version": "3.9.1-final"
  },
  "orig_nbformat": 2,
  "kernelspec": {
   "name": "python3",
   "display_name": "Python 3.9.1 64-bit",
   "metadata": {
    "interpreter": {
     "hash": "7812ea015bdcee6f23a998adcdd2ef97c151c0c241b7b7070987d9313e41299d"
    }
   }
  }
 },
 "nbformat": 4,
 "nbformat_minor": 2,
 "cells": [
  {
   "source": [
    "# 直接赋值、浅拷贝和深度拷贝  \n",
    "参考: https://www.runoob.com/w3cnote/python-understanding-dict-copy-shallow-or-deep.html  "
   ],
   "cell_type": "markdown",
   "metadata": {}
  },
  {
   "cell_type": "code",
   "execution_count": 10,
   "metadata": {},
   "outputs": [
    {
     "output_type": "stream",
     "name": "stdout",
     "text": [
      "140226737622400 {1: [1, 2, 3]}\n140226737622400 {1: [1, 2, 3]}\n"
     ]
    }
   ],
   "source": [
    "# 直接复制 = 对象引用\n",
    "a = {1: [1, 2, 3]}\n",
    "b = a\n",
    "print(id(a), a)\n",
    "print(id(b), b)"
   ]
  },
  {
   "cell_type": "code",
   "execution_count": 11,
   "metadata": {},
   "outputs": [
    {
     "output_type": "stream",
     "name": "stdout",
     "text": [
      "140226737622400 {1: [1, 2, 3, 4]}\n140226718097984 {1: [1, 2, 3, 4]}\n"
     ]
    }
   ],
   "source": [
    "# 浅拷贝 拷贝父对象，不会拷贝对象的内部的子对象\n",
    "b = a.copy()        # 等同于 b = copy.copy(a)\n",
    "\n",
    "a[1].append(4)\n",
    "print(id(a), a)\n",
    "print(id(b), b)"
   ]
  },
  {
   "cell_type": "code",
   "execution_count": 12,
   "metadata": {},
   "outputs": [
    {
     "output_type": "stream",
     "name": "stdout",
     "text": [
      "140226737622400 {1: [1, 2, 3, 4, 5]}\n140226737621056 {1: [1, 2, 3, 4]}\n"
     ]
    }
   ],
   "source": [
    "# 深拷贝 完全拷贝了父对象及其子对象\n",
    "import copy\n",
    "b = copy.deepcopy(a)\n",
    "\n",
    "a[1].append(5)\n",
    "print(id(a), a)\n",
    "print(id(b), b)"
   ]
  }
 ]
}
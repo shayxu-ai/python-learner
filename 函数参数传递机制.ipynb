{
 "metadata": {
  "language_info": {
   "codemirror_mode": {
    "name": "ipython",
    "version": 3
   },
   "file_extension": ".py",
   "mimetype": "text/x-python",
   "name": "python",
   "nbconvert_exporter": "python",
   "pygments_lexer": "ipython3",
   "version": "3.9.1-final"
  },
  "orig_nbformat": 2,
  "kernelspec": {
   "name": "python3",
   "display_name": "Python 3.9.1 64-bit",
   "metadata": {
    "interpreter": {
     "hash": "7812ea015bdcee6f23a998adcdd2ef97c151c0c241b7b7070987d9313e41299d"
    }
   }
  }
 },
 "nbformat": 4,
 "nbformat_minor": 2,
 "cells": [
  {
   "source": [
    "# 函数传参  \n",
    "参考：http://c.biancheng.net/view/2258.html  "
   ],
   "cell_type": "markdown",
   "metadata": {}
  },
  {
   "cell_type": "code",
   "execution_count": 3,
   "metadata": {},
   "outputs": [
    {
     "output_type": "stream",
     "name": "stdout",
     "text": [
      "140412939540784 140412939540816\n140412939540784 140412939540816\n140412939540816 140412939540784\n140412939540784 140412939540816\n"
     ]
    }
   ],
   "source": [
    "# 分为 值传递 和 引用传递\n",
    "a = 1\n",
    "b = 2\n",
    "print(id(a), id(b))\n",
    "def swap(arg1, arg2):               # 形参\n",
    "    print(id(arg1), id(arg2))       # \n",
    "    arg1, arg2 = arg2, arg1         \n",
    "    print(id(arg1), id(arg2))\n",
    "\n",
    "swap(a, b)\n",
    "print(id(a), id(b))                 # 实参\n"
   ]
  },
  {
   "cell_type": "code",
   "execution_count": 10,
   "metadata": {},
   "outputs": [
    {
     "output_type": "stream",
     "name": "stdout",
     "text": [
      "140413024213120 140413024213120\n140413023438016 140413023438016\n"
     ]
    }
   ],
   "source": [
    "a = [1]\n",
    "b = a\n",
    "print(id(a), id(b))\n",
    "a = (1, 1)\n",
    "b = a\n",
    "print(id(a), id(b))"
   ]
  },
  {
   "cell_type": "code",
   "execution_count": 15,
   "metadata": {},
   "outputs": [
    {
     "output_type": "stream",
     "name": "stdout",
     "text": [
      "140413024117248 140413024223552\n"
     ]
    }
   ],
   "source": [
    "from copy import copy, deepcopy\n",
    "a = [1]\n",
    "b = copy(a)\n",
    "print(id(a), id(b))"
   ]
  },
  {
   "cell_type": "code",
   "execution_count": 16,
   "metadata": {},
   "outputs": [
    {
     "output_type": "stream",
     "name": "stdout",
     "text": [
      "outer_list id is 140413023697792\ninner_list id is 140413023697792\ninner_list.append(4)后值为[1, 2, 3, 4], id为140413023697792\ninner_list = [5, 6, 7]后的id为140413023612480\n修改后outer_list的值是[1, 2, 3, 4], id是140413023697792\n"
     ]
    }
   ],
   "source": [
    "outer_list = [1, 2, 3]\n",
    "\n",
    "\n",
    "def pass_parameter(inner_list=None):\n",
    "    if not isinstance(inner_list, list):\n",
    "        raise Exception('{} is not list.'.format(inner_list))\n",
    "    print('inner_list id is {}'.format(id(inner_list)))\n",
    "    # (1)按照传可变对象传引用的说法，修改inner_list即等同修改outer_list\n",
    "    inner_list.append(4)\n",
    "    print('inner_list.append(4)后值为{}, id为{}'.format(inner_list, id(inner_list)))\n",
    "    # (2)按照传可变对象传引用的说法，修改inner_list即等同修改outer_list\n",
    "    inner_list = [5, 6, 7]\n",
    "    print('inner_list = [5, 6, 7]后的id为{}'.format(id(inner_list)))\n",
    "\n",
    "\n",
    "print('outer_list id is {}'.format(id(outer_list)))\n",
    "pass_parameter(inner_list=outer_list)\n",
    "print(\"修改后outer_list的值是{}, id是{}\".format(outer_list, id(outer_list)))"
   ]
  },
  {
   "cell_type": "code",
   "execution_count": 18,
   "metadata": {},
   "outputs": [
    {
     "output_type": "execute_result",
     "data": {
      "text/plain": [
       "(140412939540784, 140412969414832, 140412969414832)"
      ]
     },
     "metadata": {},
     "execution_count": 18
    }
   ],
   "source": [
    "a = \"1\"\n",
    "b = a       # 引用\n",
    "id(1), id(a), id(b)"
   ]
  },
  {
   "cell_type": "code",
   "execution_count": null,
   "metadata": {},
   "outputs": [],
   "source": []
  }
 ]
}